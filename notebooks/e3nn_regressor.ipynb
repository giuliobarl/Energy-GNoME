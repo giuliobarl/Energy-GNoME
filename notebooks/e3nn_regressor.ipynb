{
 "cells": [
  {
   "cell_type": "markdown",
   "metadata": {},
   "source": [
    "# E3NN models: Regression Workflow\n",
    "\n",
    "This notebook walks through the process of building a **E3NN regressor** for predicting targeted properties using the `energy_gnome` framework.\n",
    "\n",
    "The pipeline includes:\n",
    "1. Data loading and cleaning\n",
    "2. Balanced train/test splits\n",
    "3. Feature generation (structure- and composition-based)\n",
    "4. Model training and evaluation\n"
   ]
  },
  {
   "cell_type": "code",
   "execution_count": null,
   "metadata": {},
   "outputs": [],
   "source": [
    "%load_ext autoreload\n",
    "%autoreload 2\n",
    "\n",
    "from energy_gnome.dataset import MPDatabase, PerovskiteDatabase\n",
    "from energy_gnome.models import E3NNRegressor\n",
    "from pathlib import Path\n",
    "\n",
    "# Change data_dir to reflect your project's folder structure.\n",
    "# Here, we assume that there are a `notebook`, a `data`, a `models`,\n",
    "# and a `figures` subfolder in the main project folder.\n",
    "data_dir = Path(\".\").resolve().parent / \"data\"\n",
    "models_dir = Path(\".\").resolve().parent / \"models\"\n",
    "figures_dir = Path(\".\").resolve().parent / \"figures\""
   ]
  },
  {
   "cell_type": "markdown",
   "metadata": {},
   "source": [
    "## Data preparation\n",
    "\n",
    "We begin by loading the cleaned database.\n",
    "\n",
    "**Info**: in some cases, e.g. for the estimation of the band gap (E<sub>g</sub>) of perovskites, you may want to train **mixed** regression models, including non-specialized materials in your training set. In that case, you should also run the cells marked as `optional`."
   ]
  },
  {
   "cell_type": "code",
   "execution_count": null,
   "metadata": {},
   "outputs": [],
   "source": [
    "perov_db = PerovskiteDatabase(name=\"perovskites\", data_dir=data_dir)\n",
    "print(perov_db)"
   ]
  },
  {
   "cell_type": "markdown",
   "metadata": {},
   "source": [
    "`optional`"
   ]
  },
  {
   "cell_type": "code",
   "execution_count": null,
   "metadata": {},
   "outputs": [],
   "source": [
    "mp_db = MPDatabase(name=\"mp_no_perov\", data_dir=data_dir)\n",
    "print(mp_db)"
   ]
  },
  {
   "cell_type": "markdown",
   "metadata": {},
   "source": [
    "Splits the datasets into training/testing subsets, while:\n",
    "- Balancing class labels\n",
    "- Ensuring uniform element distribution across splits\n"
   ]
  },
  {
   "cell_type": "code",
   "execution_count": null,
   "metadata": {},
   "outputs": [],
   "source": [
    "perov_db.split_regressor(target_property=\"band_gap\", valid_size=0.2, test_size=0.05, save_split=True)"
   ]
  },
  {
   "cell_type": "markdown",
   "metadata": {},
   "source": [
    "`optional`"
   ]
  },
  {
   "cell_type": "code",
   "execution_count": null,
   "metadata": {},
   "outputs": [],
   "source": [
    "mp_db.split_regressor(target_property=\"band_gap\", valid_size=0.2, test_size=0.05, save_split=True)"
   ]
  },
  {
   "cell_type": "markdown",
   "metadata": {},
   "source": [
    "## Regressor Initialization\n",
    "\n",
    "Initializes a Euclidian Neural Network (E3NN) regressor.\n",
    "\n",
    "- `n_committers`: Number of E3NN models trained.\n",
    "- Uses **structural** and **compositional features** via `Matminer`.\n"
   ]
  },
  {
   "cell_type": "code",
   "execution_count": null,
   "metadata": {},
   "outputs": [],
   "source": [
    "regressor_model = E3NNRegressor(\n",
    "    model_name=\"perov_e3nn\", target_property=\"band_gap\", models_dir=models_dir, figures_dir=figures_dir\n",
    ")"
   ]
  },
  {
   "cell_type": "code",
   "execution_count": null,
   "metadata": {},
   "outputs": [],
   "source": [
    "regressor_model.set_model_settings(\n",
    "    n_committers=4,\n",
    "    l_max=3,\n",
    "    r_max=5.0,\n",
    "    conv_layers=2,\n",
    "    device=\"cuda:0\",  # change according to your device specifications\n",
    "    batch_size=16,\n",
    ")"
   ]
  },
  {
   "cell_type": "markdown",
   "metadata": {},
   "source": [
    "## Feature Engineering and Dataloader Initialization\n",
    "\n",
    "Generates input dataloader objects for model training using structural/compositional representations.\n",
    "\n",
    "`optional`: If you are training a **mixed** regression model, you should use `databases=[perov_db, mp_db]` when calling `regressor_model.create_dataloader()` in the next cells.\n"
   ]
  },
  {
   "cell_type": "code",
   "execution_count": null,
   "metadata": {},
   "outputs": [],
   "source": [
    "train_dl, n_neigh_mean = regressor_model.create_dataloader(databases=[perov_db], subset=\"training\")"
   ]
  },
  {
   "cell_type": "code",
   "execution_count": null,
   "metadata": {},
   "outputs": [],
   "source": [
    "valid_dl, _ = regressor_model.create_dataloader(databases=[perov_db], subset=\"validation\")"
   ]
  },
  {
   "cell_type": "code",
   "execution_count": null,
   "metadata": {},
   "outputs": [],
   "source": [
    "test_dl, _ = regressor_model.create_dataloader(databases=[perov_db], subset=\"testing\")"
   ]
  },
  {
   "cell_type": "markdown",
   "metadata": {},
   "source": [
    "## Training\n",
    "\n",
    "Compiles and trains the E3NN regressor.\n"
   ]
  },
  {
   "cell_type": "code",
   "execution_count": null,
   "metadata": {},
   "outputs": [],
   "source": [
    "regressor_model.compile(num_neighbors=n_neigh_mean, scheduler_settings={\"gamma\": 0.98})"
   ]
  },
  {
   "cell_type": "code",
   "execution_count": null,
   "metadata": {},
   "outputs": [],
   "source": [
    "regressor_model.fit(dataloader_train=train_dl, dataloader_valid=valid_dl, n_epochs=10, parallelize=False)"
   ]
  },
  {
   "cell_type": "markdown",
   "metadata": {},
   "source": [
    "## Evaluation\n",
    "\n",
    "Evaluates the trained model on both training and test splits.\n"
   ]
  },
  {
   "cell_type": "code",
   "execution_count": null,
   "metadata": {},
   "outputs": [],
   "source": [
    "train_predictions = regressor_model.evaluate(dataloader=train_dl)\n",
    "valid_predictions = regressor_model.evaluate(dataloader=valid_dl)\n",
    "test_predictions = regressor_model.evaluate(dataloader=test_dl)"
   ]
  },
  {
   "cell_type": "markdown",
   "metadata": {},
   "source": [
    "## Visualization\n",
    "\n",
    "Produces history plots showing training & validation vs. # of epochs, and parity plots showing predicted vs. true E<sub>g</sub> values.\n"
   ]
  },
  {
   "cell_type": "code",
   "execution_count": null,
   "metadata": {},
   "outputs": [],
   "source": [
    "regressor_model.plot_history()"
   ]
  },
  {
   "cell_type": "code",
   "execution_count": null,
   "metadata": {},
   "outputs": [],
   "source": [
    "regressor_model.plot_parity(predictions_dict=train_predictions, include_ensemble=True)"
   ]
  },
  {
   "cell_type": "code",
   "execution_count": null,
   "metadata": {},
   "outputs": [],
   "source": [
    "regressor_model.plot_parity(predictions_dict=valid_predictions, include_ensemble=True)"
   ]
  },
  {
   "cell_type": "code",
   "execution_count": null,
   "metadata": {},
   "outputs": [],
   "source": [
    "regressor_model.plot_parity(predictions_dict=test_predictions, include_ensemble=True)"
   ]
  }
 ],
 "metadata": {
  "language_info": {
   "name": "python"
  }
 },
 "nbformat": 4,
 "nbformat_minor": 2
}
