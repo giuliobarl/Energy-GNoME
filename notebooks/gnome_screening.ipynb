{
 "cells": [
  {
   "cell_type": "markdown",
   "metadata": {},
   "source": [
    "# GNoME Dataset Screening\n",
    "\n",
    "This notebook demonstrates how to:\n",
    "1. **Load** and **preprocess** the GNoME dataset\n",
    "2. **Remove overlapping** materials between GNoME and other databases\n",
    "3. Use a pretrained Gradient Boosted Decision Tree (GBDT) classifier to **screen candidate materials**\n",
    "4. Use a pretrained E(3)NN (can be switched to GBDT) regressor to **predict** band gaps on screened candidates\n",
    "5. Save and manage prediction results\n",
    "\n",
    "The pipeline leverages both compositional and structural features, and focuses on efficient screening and regression of materials properties."
   ]
  },
  {
   "cell_type": "code",
   "execution_count": null,
   "metadata": {},
   "outputs": [],
   "source": [
    "%load_ext autoreload\n",
    "%autoreload 2\n",
    "\n",
    "from energy_gnome.dataset import GNoMEDatabase, MPDatabase\n",
    "from energy_gnome.models import E3NNRegressor, GBDTClassifier\n",
    "from pathlib import Path\n",
    "\n",
    "# Change data_dir to reflect your project's folder structure.\n",
    "# Here, we assume that there are a `notebook`, a `data`, a `models`,\n",
    "# and a `figures` subfolder in the main project folder.\n",
    "data_dir = Path(\".\").resolve().parent / \"data\"\n",
    "models_dir = Path(\".\").resolve().parent / \"models\"\n",
    "figures_dir = Path(\".\").resolve().parent / \"figures\""
   ]
  },
  {
   "cell_type": "markdown",
   "metadata": {},
   "source": [
    "# Dataset creation"
   ]
  },
  {
   "cell_type": "markdown",
   "metadata": {},
   "source": [
    "Load the GNoME dataset and allow updates to raw data"
   ]
  },
  {
   "cell_type": "code",
   "execution_count": null,
   "metadata": {},
   "outputs": [],
   "source": [
    "gnome_db = GNoMEDatabase(name=\"gnome\", data_dir=data_dir)\n",
    "gnome_db.allow_raw_update()\n",
    "print(gnome_db)"
   ]
  },
  {
   "cell_type": "markdown",
   "metadata": {},
   "source": [
    "Access the raw dataset from GNoME"
   ]
  },
  {
   "cell_type": "code",
   "execution_count": null,
   "metadata": {},
   "outputs": [],
   "source": [
    "gnome_db.get_database(\"raw\")"
   ]
  },
  {
   "cell_type": "markdown",
   "metadata": {},
   "source": [
    "Pulls the raw thermoelectric materials dataset. As of now, there is still no implementation of the pipeline to download and extract the GNoME database from [Google Deepmind's repository](https://github.com/google-deepmind/materials_discovery)."
   ]
  },
  {
   "cell_type": "code",
   "execution_count": 4,
   "metadata": {},
   "outputs": [],
   "source": [
    "df = gnome_db.retrieve_materials()"
   ]
  },
  {
   "cell_type": "markdown",
   "metadata": {},
   "source": [
    "Compares the newly retrieved entries with the existing raw dataset and updates if necessary."
   ]
  },
  {
   "cell_type": "code",
   "execution_count": null,
   "metadata": {},
   "outputs": [],
   "source": [
    "gnome_db.compare_and_update(df, \"raw\")"
   ]
  },
  {
   "cell_type": "markdown",
   "metadata": {},
   "source": [
    "Saves CIF files for downstream use. Since the files come zipped, this may take some time."
   ]
  },
  {
   "cell_type": "code",
   "execution_count": null,
   "metadata": {},
   "outputs": [],
   "source": [
    "gnome_db.save_cif_files()"
   ]
  },
  {
   "cell_type": "markdown",
   "metadata": {},
   "source": [
    "## Background Database\n",
    "\n",
    "We now prepare a background dataset using MP materials, to exclude known materials from GNoME. This is necessary since MP has started including GNoME-originated materials calculated using `r2SCAN`."
   ]
  },
  {
   "cell_type": "code",
   "execution_count": null,
   "metadata": {},
   "outputs": [],
   "source": [
    "mp_db = MPDatabase(name=\"mp\", data_dir=data_dir)"
   ]
  },
  {
   "cell_type": "code",
   "execution_count": null,
   "metadata": {},
   "outputs": [],
   "source": [
    "gnome_db.get_database(\"raw\")"
   ]
  },
  {
   "cell_type": "markdown",
   "metadata": {},
   "source": [
    "Removes materials from GNoME that overlap with the raw MP set.\n",
    "\n",
    "This avoids label leakage in later ML tasks."
   ]
  },
  {
   "cell_type": "code",
   "execution_count": null,
   "metadata": {},
   "outputs": [],
   "source": [
    "gnome_db.remove_cross_overlap(stage=\"raw\", df=mp_db.get_database(\"raw\"), save_db=True)"
   ]
  },
  {
   "cell_type": "code",
   "execution_count": null,
   "metadata": {},
   "outputs": [],
   "source": [
    "print(gnome_db)"
   ]
  },
  {
   "cell_type": "markdown",
   "metadata": {},
   "source": [
    "## Classification Screening\n",
    "\n",
    "Loads the trained classifier model and screens GNoME entries for potential perovskites."
   ]
  },
  {
   "cell_type": "code",
   "execution_count": null,
   "metadata": {},
   "outputs": [],
   "source": [
    "classifier_model = GBDTClassifier(model_name=\"perovskites_gbdt\", models_dir=models_dir, figures_dir=figures_dir)\n",
    "classifier_model.load_trained_models()"
   ]
  },
  {
   "cell_type": "code",
   "execution_count": null,
   "metadata": {},
   "outputs": [],
   "source": [
    "screened_df = classifier_model.screen(db=gnome_db, featurizing_mode=\"structure\", save_processed=True)"
   ]
  },
  {
   "cell_type": "markdown",
   "metadata": {},
   "source": [
    "## $E_g$ Prediction\n",
    "\n",
    "Applies the trained regression model to the positively screened candidates, estimating their $E_g$ values.\n",
    "\n",
    "This completes the full screening pipeline.\n"
   ]
  },
  {
   "cell_type": "code",
   "execution_count": null,
   "metadata": {},
   "outputs": [],
   "source": [
    "regressor_model = E3NNRegressor(\n",
    "    model_name=\"perov_e3nn\", target_property=\"band_gap\", models_dir=models_dir, figures_dir=figures_dir\n",
    ")\n",
    "regressor_model.load_trained_models()"
   ]
  },
  {
   "cell_type": "code",
   "execution_count": null,
   "metadata": {},
   "outputs": [],
   "source": [
    "final_df = regressor_model.predict(gnome_db, confidence_threshold=0.5, save_final=True)"
   ]
  }
 ],
 "metadata": {
  "kernelspec": {
   "display_name": "energy-gnome",
   "language": "python",
   "name": "python3"
  },
  "language_info": {
   "codemirror_mode": {
    "name": "ipython",
    "version": 3
   },
   "file_extension": ".py",
   "mimetype": "text/x-python",
   "name": "python",
   "nbconvert_exporter": "python",
   "pygments_lexer": "ipython3",
   "version": "3.10.15"
  }
 },
 "nbformat": 4,
 "nbformat_minor": 2
}
