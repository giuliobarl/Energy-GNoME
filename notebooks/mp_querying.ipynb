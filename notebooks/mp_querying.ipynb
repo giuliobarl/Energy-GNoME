{
 "cells": [
  {
   "cell_type": "markdown",
   "metadata": {},
   "source": [
    "# Generic MP Querying Overview\n",
    "\n",
    "This notebook demonstrates how to use the `energy_gnome` library to query the Materials Project (MP) database via its API.\n",
    "\n",
    "You will learn how to:\n",
    "1. Initialize and configure a generic materials database.\n",
    "2. Retrieve entries using the `MPRester` from `mp_api`.\n",
    "3. Manage and update local raw datasets.\n",
    "4. Optionally save structure files (`CIF`) for future use.\n",
    "\n",
    "\\> This workflow is also compatible with specialized subclasses such as `PerovskiteDatabase` and `CathodeDatabase`. Refer to the respective notebooks for targeted use cases.\n"
   ]
  },
  {
   "cell_type": "code",
   "execution_count": null,
   "metadata": {},
   "outputs": [],
   "source": [
    "%load_ext autoreload\n",
    "%autoreload 2\n",
    "\n",
    "from energy_gnome.dataset import MPDatabase\n",
    "from pathlib import Path\n",
    "\n",
    "# Change data_dir to reflect your project's folder structure.\n",
    "# Here, we assume that there are a `notebook` and a `data` subfolder\n",
    "# in the main project folder.\n",
    "main_dir = Path(\".\").resolve().parent\n",
    "data_dir = main_dir / \"data\""
   ]
  },
  {
   "cell_type": "markdown",
   "metadata": {},
   "source": [
    "# Dataset creation"
   ]
  },
  {
   "cell_type": "markdown",
   "metadata": {},
   "source": [
    "## Database Initialization\n",
    "\n",
    "We begin by initializing a generic MP-based database using the `MPDatabase` class.\n",
    "\n",
    "- `name`: Defines a unique name for this database instance. Use distinct names for different projects or dataset versions to avoid accidental overwriting.\n",
    "- `data_dir`: Sets the root directory where all files will be stored (e.g., raw and processed datasets, CIFs).\n",
    "- `allow_raw_update()`: Enables updates to the raw data stage, allowing newly retrieved entries to be stored.\n",
    "\n",
    "\\> For initializing other MP-based database types, such as `PerovskiteDatabase` or `CathodeDatabase`, consult the respective example notebooks."
   ]
  },
  {
   "cell_type": "code",
   "execution_count": null,
   "metadata": {},
   "outputs": [],
   "source": [
    "mp_db = MPDatabase(name=\"mp\", data_dir=data_dir)\n",
    "mp_db.allow_raw_update()"
   ]
  },
  {
   "cell_type": "code",
   "execution_count": null,
   "metadata": {},
   "outputs": [],
   "source": [
    "print(mp_db)"
   ]
  },
  {
   "cell_type": "markdown",
   "metadata": {},
   "source": [
    "## Data Retrieval\n",
    "\n",
    "This step fetches material entries from the Materials Project via its API.\n",
    "\n",
    "To proceed, you **must** have an MP API key. Follow these steps:\n",
    "\n",
    "1. Register on the [Materials Project](https://next-gen.materialsproject.org).\n",
    "2. Copy your API key from [here](https://next-gen.materialsproject.org/dashboard).\n",
    "3. Save it to a `config.yaml` file in your working directory using this format:\n",
    "\n",
    "```yaml\n",
    "MP: \"<your-api-key>\""
   ]
  },
  {
   "cell_type": "code",
   "execution_count": null,
   "metadata": {},
   "outputs": [],
   "source": [
    "db, materials = mp_db.retrieve_materials(max_framework_size=6, mute_progress_bars=False)"
   ]
  },
  {
   "cell_type": "markdown",
   "metadata": {},
   "source": [
    "## Updating the Raw Database\n",
    "\n",
    "Once the data is retrieved, we compare it with the existing raw dataset (if any) and update accordingly.\n",
    "\n",
    "This ensures:\n",
    "- New materials are added.\n",
    "- Existing entries are not duplicated.\n",
    "- Data integrity is maintained across multiple runs."
   ]
  },
  {
   "cell_type": "code",
   "execution_count": null,
   "metadata": {},
   "outputs": [],
   "source": [
    "mp_db.compare_and_update(new_db=db, stage=\"raw\")"
   ]
  },
  {
   "cell_type": "markdown",
   "metadata": {},
   "source": [
    "## Saving CIF Files\n",
    "\n",
    "You may optionally save structure files (`CIF` format) for the retrieved materials.\n",
    "\n",
    "**Important:**  \n",
    "To save time and disk space, it’s often more efficient to skip saving CIFs at the raw stage — especially if you plan to downsample or filter the dataset later.\n",
    "\n",
    "Instead, consider saving CIFs only after:\n",
    "- The dataset has been processed or cleaned.\n",
    "- You've finalized the materials you plan to use in model training or screening.\n",
    "\n",
    "This can significantly reduce IO overhead and file clutter, particularly for large-scale MP queries."
   ]
  },
  {
   "cell_type": "code",
   "execution_count": null,
   "metadata": {},
   "outputs": [],
   "source": [
    "mp_db.save_cif_files(stage=\"raw\", mute_progress_bars=False)\n",
    "mp_db.save_database(\"raw\")"
   ]
  }
 ],
 "metadata": {
  "kernelspec": {
   "display_name": "energy-gnome",
   "language": "python",
   "name": "python3"
  },
  "language_info": {
   "codemirror_mode": {
    "name": "ipython",
    "version": 3
   },
   "file_extension": ".py",
   "mimetype": "text/x-python",
   "name": "python",
   "nbconvert_exporter": "python",
   "pygments_lexer": "ipython3",
   "version": "3.10.15"
  }
 },
 "nbformat": 4,
 "nbformat_minor": 2
}
