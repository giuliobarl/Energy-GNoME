{
 "cells": [
  {
   "cell_type": "markdown",
   "metadata": {},
   "source": [
    "# Perovskite Materials: Dataset Preparation Pipeline\n",
    "\n",
    "This notebook demonstrates how to prepare datasets for studying **perovskite materials** using the `energy_gnome` library.\n",
    "\n",
    "The pipeline covers:\n",
    "1. Retrieval and processing of perovskite data\n",
    "2. Removal of overlaps from a background MP dataset\n",
    "3. Dataset cleaning, filtering, and `CIF` file management\n",
    "\n",
    "This workflow lays the foundation for ML-based screening or property prediction tasks involving perovskites.\n"
   ]
  },
  {
   "cell_type": "code",
   "execution_count": null,
   "metadata": {},
   "outputs": [],
   "source": [
    "%load_ext autoreload\n",
    "%autoreload 2\n",
    "\n",
    "from energy_gnome.dataset import MPDatabase, PerovskiteDatabase\n",
    "from pathlib import Path\n",
    "\n",
    "# Change data_dir to reflect your project's folder structure.\n",
    "# Here, we assume that there are a `notebook`, a `data`, and a `models`\n",
    "# subfolder in the main project folder.\n",
    "data_dir = Path(\".\").resolve().parent / \"data\""
   ]
  },
  {
   "cell_type": "markdown",
   "metadata": {},
   "source": [
    "# Dataset Preparation\n"
   ]
  },
  {
   "cell_type": "markdown",
   "metadata": {},
   "source": [
    "## Perovskite Materials\n",
    "\n",
    "We begin by initializing a `PerovskiteDatabase`.\n",
    "\n",
    "- `name`: Defines a unique name for this database instance. Use distinct names for different projects or dataset versions to avoid accidental overwriting.\n",
    "- `data_dir`: Sets the root directory where all files will be stored (e.g., raw and processed datasets, CIFs).\n",
    "- `allow_raw_update()`: Enables updates to the raw data stage, allowing newly retrieved entries to be stored.\n"
   ]
  },
  {
   "cell_type": "code",
   "execution_count": null,
   "metadata": {},
   "outputs": [],
   "source": [
    "perov_db = PerovskiteDatabase(name=\"perovskites\", data_dir=data_dir)\n",
    "perov_db.allow_raw_update()"
   ]
  },
  {
   "cell_type": "code",
   "execution_count": null,
   "metadata": {},
   "outputs": [],
   "source": [
    "print(perov_db)"
   ]
  },
  {
   "cell_type": "markdown",
   "metadata": {},
   "source": [
    "Retrieves perovskite materials. Returns both the raw materials and associated metadata.\n",
    "\n",
    "For more information about how to query from MP, refer to the `mp_querying.ipynb` notebook."
   ]
  },
  {
   "cell_type": "code",
   "execution_count": null,
   "metadata": {},
   "outputs": [],
   "source": [
    "db, materials = perov_db.retrieve_materials(mute_progress_bars=False)"
   ]
  },
  {
   "cell_type": "markdown",
   "metadata": {},
   "source": [
    "Compares newly retrieved entries with the existing raw dataset and updates if changes are found.\n"
   ]
  },
  {
   "cell_type": "code",
   "execution_count": null,
   "metadata": {},
   "outputs": [],
   "source": [
    "perov_db.compare_and_update(new_db=db, stage=\"raw\")"
   ]
  },
  {
   "cell_type": "markdown",
   "metadata": {},
   "source": [
    "Saves the raw CIF files and database records to disk.\n"
   ]
  },
  {
   "cell_type": "code",
   "execution_count": null,
   "metadata": {},
   "outputs": [],
   "source": [
    "perov_db.save_cif_files(\n",
    "    stage=\"raw\",\n",
    "    mute_progress_bars=False,\n",
    ")\n",
    "perov_db.save_database(stage=\"raw\")"
   ]
  },
  {
   "cell_type": "markdown",
   "metadata": {},
   "source": [
    "Processes the perovskite data by:\n",
    "- Filtering based on v band gap $\\left(0.0 < E_g ≤ 2.5 \\mathrm{eV}\\right)$ for PV applications (customizable)\n",
    "- Removing magnetic materials (optional)\n",
    "- Removing metallic materials\n",
    "\n",
    "CIF files are saved for downstream use.\n"
   ]
  },
  {
   "cell_type": "code",
   "execution_count": null,
   "metadata": {},
   "outputs": [],
   "source": [
    "perov_db.process_database(band_gap_lower=0.0, band_gap_upper=2.5, inplace=True, clean_magnetic=True)\n",
    "perov_db.copy_cif_files(stage=\"processed\")"
   ]
  },
  {
   "cell_type": "markdown",
   "metadata": {},
   "source": [
    "## MP Database\n",
    "\n",
    "We now prepare a background dataset using MP materials, excluding known perovskite structures.\n"
   ]
  },
  {
   "cell_type": "markdown",
   "metadata": {},
   "source": [
    "Initializes the MP database.\n"
   ]
  },
  {
   "cell_type": "code",
   "execution_count": null,
   "metadata": {},
   "outputs": [],
   "source": [
    "mp_db = MPDatabase(name=\"mp_no_perov\", data_dir=data_dir)\n",
    "mp_db.allow_raw_update()"
   ]
  },
  {
   "cell_type": "code",
   "execution_count": null,
   "metadata": {},
   "outputs": [],
   "source": [
    "print(mp_db)"
   ]
  },
  {
   "cell_type": "markdown",
   "metadata": {},
   "source": [
    "Removes materials from MP that overlap with the raw perovskite set.\n",
    "\n",
    "This avoids contamination or label leakage in later ML tasks.\n"
   ]
  },
  {
   "cell_type": "code",
   "execution_count": null,
   "metadata": {},
   "outputs": [],
   "source": [
    "mp_database = mp_db.remove_cross_overlap(\"raw\", perov_db.get_database(\"raw\"))"
   ]
  },
  {
   "cell_type": "markdown",
   "metadata": {},
   "source": [
    "Processes the filtered MP dataset by:\n",
    "- Applying a custom band gap range\n",
    "- Retaining magnetic materials (optional behavior)\n",
    "\n",
    "This step uses the **same cleaning logic** as the perovskite pipeline to ensure consistent feature generation."
   ]
  },
  {
   "cell_type": "code",
   "execution_count": null,
   "metadata": {},
   "outputs": [],
   "source": [
    "mp_clean = perov_db.process_database(\n",
    "    band_gap_lower=0.0,\n",
    "    band_gap_upper=10.0,\n",
    "    inplace=False,\n",
    "    db=mp_database,\n",
    "    clean_magnetic=False,\n",
    ")"
   ]
  },
  {
   "cell_type": "code",
   "execution_count": null,
   "metadata": {},
   "outputs": [],
   "source": [
    "mp_db.databases[\"processed\"] = mp_clean\n",
    "mp_db.save_database(\"processed\")"
   ]
  },
  {
   "cell_type": "markdown",
   "metadata": {},
   "source": [
    "Saves CIF files for downstream use."
   ]
  },
  {
   "cell_type": "code",
   "execution_count": null,
   "metadata": {},
   "outputs": [],
   "source": [
    "df = mp_db.get_database(stage=\"processed\")\n",
    "mp_db.save_cif_files(stage=\"processed\", mute_progress_bars=False)"
   ]
  }
 ],
 "metadata": {
  "kernelspec": {
   "display_name": "energy-gnome",
   "language": "python",
   "name": "python3"
  },
  "language_info": {
   "codemirror_mode": {
    "name": "ipython",
    "version": 3
   },
   "file_extension": ".py",
   "mimetype": "text/x-python",
   "name": "python",
   "nbconvert_exporter": "python",
   "pygments_lexer": "ipython3",
   "version": "3.10.15"
  }
 },
 "nbformat": 4,
 "nbformat_minor": 2
}
