{
 "cells": [
  {
   "cell_type": "markdown",
   "metadata": {},
   "source": [
    "# GBDT models: Binary Classification Workflow\n",
    "\n",
    "This notebook walks through the process of building a **GBDT classifier** for identifying specialized materials with targeted properties using the `energy_gnome` framework.\n",
    "\n",
    "The pipeline includes:\n",
    "1. Data loading and cleaning\n",
    "2. Balanced train/test splits\n",
    "3. Feature generation (structure- or composition-based)\n",
    "4. Model training and evaluation\n"
   ]
  },
  {
   "cell_type": "code",
   "execution_count": null,
   "metadata": {},
   "outputs": [],
   "source": [
    "%load_ext autoreload\n",
    "%autoreload 2\n",
    "\n",
    "from energy_gnome.dataset import MPDatabase, PerovskiteDatabase\n",
    "from energy_gnome.models import GBDTClassifier\n",
    "from pathlib import Path\n",
    "\n",
    "# Change data_dir to reflect your project's folder structure.\n",
    "# Here, we assume that there are a `notebook`, a `data`, and a `models`\n",
    "# subfolder in the main project folder.\n",
    "data_dir = Path(\".\").resolve().parent / \"data\"\n",
    "models_dir = Path(\".\").resolve().parent / \"models\"\n",
    "figures_dir = Path(\".\").resolve().parent / \"figures\""
   ]
  },
  {
   "cell_type": "markdown",
   "metadata": {},
   "source": [
    "## Data Preparation\n",
    "\n",
    "We begin by loading the pre-processed databases:\n",
    "\n",
    "- `perovskites`: Labeled materials with known properties\n",
    "- `mp_no_perov`: Generic materials, excluding known perovskites (used as background)\n",
    "\n",
    "These datasets should have been pre-cleaned and processed using the pipeline in the earlier notebook."
   ]
  },
  {
   "cell_type": "code",
   "execution_count": null,
   "metadata": {},
   "outputs": [],
   "source": [
    "perov_db = PerovskiteDatabase(name=\"perovskites\", data_dir=data_dir)\n",
    "print(perov_db)"
   ]
  },
  {
   "cell_type": "code",
   "execution_count": null,
   "metadata": {},
   "outputs": [],
   "source": [
    "mp_db = MPDatabase(name=\"mp_no_perov\", data_dir=data_dir)\n",
    "print(mp_db)"
   ]
  },
  {
   "cell_type": "markdown",
   "metadata": {},
   "source": [
    "Splits the datasets into training and testing subsets.\n",
    "\n",
    "The splitting procedure:\n",
    "- Balances the class labels\n",
    "- Ensures similar elemental distribution across train/test\n",
    "\n"
   ]
  },
  {
   "cell_type": "code",
   "execution_count": null,
   "metadata": {},
   "outputs": [],
   "source": [
    "perov_db.split_classifier(test_size=0.2, balance_composition=True, save_split=True)"
   ]
  },
  {
   "cell_type": "code",
   "execution_count": null,
   "metadata": {},
   "outputs": [],
   "source": [
    "mp_db.split_classifier(test_size=0.2, balance_composition=True, save_split=True)"
   ]
  },
  {
   "cell_type": "markdown",
   "metadata": {},
   "source": [
    "## Classifier Initialization\n",
    "\n",
    "Initializes a Gradient Boosted Decision Tree (GBDT) classifier.\n",
    "\n",
    "- `n_committers`: Number of GBDT models trained.\n",
    "- Uses either **structural** or **compositional features** via `Matminer`.\n"
   ]
  },
  {
   "cell_type": "code",
   "execution_count": null,
   "metadata": {},
   "outputs": [],
   "source": [
    "classifier_model = GBDTClassifier(model_name=\"perov_gbdt\", models_dir=models_dir, figures_dir=figures_dir)"
   ]
  },
  {
   "cell_type": "code",
   "execution_count": null,
   "metadata": {},
   "outputs": [],
   "source": [
    "classifier_model.set_model_settings(n_committers=10)"
   ]
  },
  {
   "cell_type": "markdown",
   "metadata": {},
   "source": [
    "## Feature Engineering\n",
    "\n",
    "Generates input features for model training using structural/compositional representations.\n",
    "\n",
    "**Warning!** Only compositional features are available for thermoelectric materials as of this version of `energy_gnome`.\n"
   ]
  },
  {
   "cell_type": "code",
   "execution_count": null,
   "metadata": {},
   "outputs": [],
   "source": [
    "train_feat = classifier_model.featurize_db(databases=[perov_db, mp_db], mode=\"structure\")"
   ]
  },
  {
   "cell_type": "code",
   "execution_count": null,
   "metadata": {},
   "outputs": [],
   "source": [
    "test_feat = classifier_model.featurize_db(databases=[perov_db, mp_db], subset=\"testing\", mode=\"structure\")"
   ]
  },
  {
   "cell_type": "markdown",
   "metadata": {},
   "source": [
    "## Training\n",
    "\n",
    "Compiles and trains the GBDT classifier.\n"
   ]
  },
  {
   "cell_type": "code",
   "execution_count": null,
   "metadata": {},
   "outputs": [],
   "source": [
    "classifier_model.compile(n_jobs=6)"
   ]
  },
  {
   "cell_type": "code",
   "execution_count": null,
   "metadata": {},
   "outputs": [],
   "source": [
    "classifier_model.fit(df=train_feat)"
   ]
  },
  {
   "cell_type": "markdown",
   "metadata": {},
   "source": [
    "## Evaluation\n",
    "\n",
    "Evaluates the trained model on both training and test splits.\n"
   ]
  },
  {
   "cell_type": "code",
   "execution_count": null,
   "metadata": {},
   "outputs": [],
   "source": [
    "classifier_model.load_trained_models()"
   ]
  },
  {
   "cell_type": "code",
   "execution_count": null,
   "metadata": {},
   "outputs": [],
   "source": [
    "train_preds = classifier_model.evaluate(df=train_feat)\n",
    "test_preds = classifier_model.evaluate(df=test_feat)"
   ]
  },
  {
   "cell_type": "markdown",
   "metadata": {},
   "source": [
    "## Visualization\n",
    "\n",
    "Plots classification performance:\n",
    "- ROC curve with AUC (Area Under the Curve)\n",
    "- Precision-Recall curve\n",
    "- Recall-Threshold curve\n"
   ]
  },
  {
   "cell_type": "code",
   "execution_count": null,
   "metadata": {},
   "outputs": [],
   "source": [
    "classifier_model.plot_performance(predictions_dict=train_preds)"
   ]
  },
  {
   "cell_type": "code",
   "execution_count": null,
   "metadata": {},
   "outputs": [],
   "source": [
    "classifier_model.plot_performance(predictions_dict=test_preds)"
   ]
  }
 ],
 "metadata": {
  "kernelspec": {
   "display_name": "energy-gnome",
   "language": "python",
   "name": "python3"
  },
  "language_info": {
   "codemirror_mode": {
    "name": "ipython",
    "version": 3
   },
   "file_extension": ".py",
   "mimetype": "text/x-python",
   "name": "python",
   "nbconvert_exporter": "python",
   "pygments_lexer": "ipython3",
   "version": "3.10.15"
  }
 },
 "nbformat": 4,
 "nbformat_minor": 2
}
