{
 "cells": [
  {
   "cell_type": "markdown",
   "metadata": {},
   "source": [
    "# GBDT models: Regression Workflow\n",
    "\n",
    "This notebook walks through the process of building a **GBDT regressor** for predicting targeted properties using the `energy_gnome` framework.\n",
    "\n",
    "The pipeline includes:\n",
    "1. Data loading and cleaning\n",
    "2. Balanced train/test splits\n",
    "3. Feature generation (structure- and/or composition-based)\n",
    "4. Model training and evaluation\n"
   ]
  },
  {
   "cell_type": "code",
   "execution_count": null,
   "metadata": {},
   "outputs": [],
   "source": [
    "%load_ext autoreload\n",
    "%autoreload 2\n",
    "\n",
    "from energy_gnome.dataset import MPDatabase, PerovskiteDatabase\n",
    "from energy_gnome.models import GBDTRegressor\n",
    "from pathlib import Path\n",
    "\n",
    "# Change data_dir to reflect your project's folder structure.\n",
    "# Here, we assume that there are a `notebook`, a `data`, a `models`,\n",
    "# and a `figures` subfolder in the main project folder.\n",
    "data_dir = Path(\".\").resolve().parent / \"data\"\n",
    "models_dir = Path(\".\").resolve().parent / \"models\"\n",
    "figures_dir = Path(\".\").resolve().parent / \"figures\""
   ]
  },
  {
   "cell_type": "markdown",
   "metadata": {},
   "source": [
    "## Data preparation\n",
    "\n",
    "We begin by loading the cleaned database.\n",
    "\n",
    "**Info**: in some cases, e.g. for the estimation of the band gap (E<sub>g</sub>) of perovskites, you may want to train **mixed** regression models, including non-specialized materials in your training set. In that case, you should also run the cells marked as `optional`."
   ]
  },
  {
   "cell_type": "code",
   "execution_count": null,
   "metadata": {},
   "outputs": [],
   "source": [
    "perov_db = PerovskiteDatabase(name=\"perovskites\", data_dir=data_dir)\n",
    "print(perov_db)"
   ]
  },
  {
   "cell_type": "markdown",
   "metadata": {},
   "source": [
    "`optional`"
   ]
  },
  {
   "cell_type": "code",
   "execution_count": null,
   "metadata": {},
   "outputs": [],
   "source": [
    "mp_db = MPDatabase(name=\"mp_no_perov\", data_dir=data_dir)\n",
    "print(mp_db)"
   ]
  },
  {
   "cell_type": "markdown",
   "metadata": {},
   "source": [
    "Splits the datasets into training/testing subsets, while:\n",
    "- Balancing class labels\n",
    "- Ensuring uniform element distribution across splits\n"
   ]
  },
  {
   "cell_type": "code",
   "execution_count": null,
   "metadata": {},
   "outputs": [],
   "source": [
    "perov_db.split_regressor(target_property=\"band_gap\", valid_size=0.0, test_size=0.2, save_split=True)"
   ]
  },
  {
   "cell_type": "markdown",
   "metadata": {},
   "source": [
    "`optional`"
   ]
  },
  {
   "cell_type": "code",
   "execution_count": null,
   "metadata": {},
   "outputs": [],
   "source": [
    "mp_db.split_regressor(target_property=\"band_gap\", valid_size=0.0, test_size=0.2, save_split=True)"
   ]
  },
  {
   "cell_type": "markdown",
   "metadata": {},
   "source": [
    "## Regressor Initialization\n",
    "\n",
    "Initializes a Gradient Boosted Decision Tree (GBDT) regressor.\n",
    "\n",
    "- `n_committers`: Number of GBDT models trained.\n",
    "- Uses **structural** and/or **compositional features** via `Matminer`.\n"
   ]
  },
  {
   "cell_type": "code",
   "execution_count": 3,
   "metadata": {},
   "outputs": [],
   "source": [
    "regressor_model = GBDTRegressor(\n",
    "    model_name=\"perov_gbdt\", target_property=\"band_gap\", models_dir=models_dir, figures_dir=figures_dir\n",
    ")"
   ]
  },
  {
   "cell_type": "code",
   "execution_count": null,
   "metadata": {},
   "outputs": [],
   "source": [
    "regressor_model.set_model_settings(n_committers=4)"
   ]
  },
  {
   "cell_type": "markdown",
   "metadata": {},
   "source": [
    "## Feature Engineering\n",
    "\n",
    "Generates input features for model training using structural/compositional representations.\n",
    "\n",
    "**Warning!** Only compositional features are available for thermoelectric materials as of this version of `energy_gnome`.\n",
    "\n",
    "`optional`: If you are training a **mixed** regression model, you should use `databases=[perov_db, mp_db]` when calling `regressor_model.featurize_db()` in the next cells.\n"
   ]
  },
  {
   "cell_type": "code",
   "execution_count": null,
   "metadata": {},
   "outputs": [],
   "source": [
    "train_feat = regressor_model.featurize_db(databases=perov_db, mode=\"structure\")"
   ]
  },
  {
   "cell_type": "code",
   "execution_count": null,
   "metadata": {},
   "outputs": [],
   "source": [
    "test_feat = regressor_model.featurize_db(databases=perov_db, subset=\"testing\", mode=\"structure\")"
   ]
  },
  {
   "cell_type": "markdown",
   "metadata": {},
   "source": [
    "## Training\n",
    "\n",
    "Compiles and trains the GBDT regressor."
   ]
  },
  {
   "cell_type": "code",
   "execution_count": null,
   "metadata": {},
   "outputs": [],
   "source": [
    "regressor_model.compile(n_jobs=6, scoring=\"neg_root_mean_squared_error\")"
   ]
  },
  {
   "cell_type": "code",
   "execution_count": null,
   "metadata": {},
   "outputs": [],
   "source": [
    "regressor_model.fit(df=train_feat)"
   ]
  },
  {
   "cell_type": "markdown",
   "metadata": {},
   "source": [
    "## Evaluation\n",
    "\n",
    "Evaluates the trained model on both training and test splits.\n"
   ]
  },
  {
   "cell_type": "code",
   "execution_count": null,
   "metadata": {},
   "outputs": [],
   "source": [
    "regressor_model.load_trained_models()"
   ]
  },
  {
   "cell_type": "code",
   "execution_count": null,
   "metadata": {},
   "outputs": [],
   "source": [
    "train_preds = regressor_model.evaluate(df=train_feat)\n",
    "test_preds = regressor_model.evaluate(df=test_feat)"
   ]
  },
  {
   "cell_type": "markdown",
   "metadata": {},
   "source": [
    "## Visualization\n",
    "\n",
    "Produces parity plots showing predicted vs. true E<sub>g</sub> values.\n"
   ]
  },
  {
   "cell_type": "code",
   "execution_count": null,
   "metadata": {},
   "outputs": [],
   "source": [
    "regressor_model.plot_parity(predictions_dict=train_preds)"
   ]
  },
  {
   "cell_type": "code",
   "execution_count": null,
   "metadata": {},
   "outputs": [],
   "source": [
    "regressor_model.plot_parity(predictions_dict=test_preds)"
   ]
  }
 ],
 "metadata": {
  "kernelspec": {
   "display_name": "energy-gnome",
   "language": "python",
   "name": "python3"
  },
  "language_info": {
   "codemirror_mode": {
    "name": "ipython",
    "version": 3
   },
   "file_extension": ".py",
   "mimetype": "text/x-python",
   "name": "python",
   "nbconvert_exporter": "python",
   "pygments_lexer": "ipython3",
   "version": "3.10.15"
  }
 },
 "nbformat": 4,
 "nbformat_minor": 2
}
