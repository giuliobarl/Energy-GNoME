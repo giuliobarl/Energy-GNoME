{
 "cells": [
  {
   "cell_type": "markdown",
   "metadata": {},
   "source": [
    "# Thermoelectric Materials: ML Modeling & Screening Pipeline\n",
    "\n",
    "This notebook demonstrates how to use the `energy_gnome` library to build and apply machine learning models for predicting thermoelectric performance.\n",
    "\n",
    "The complete pipeline includes:\n",
    "1. **Dataset preparation** — from raw retrieval to cleaning and downsampling.\n",
    "2. **Binary classification** — to identify potential thermoelectric candidates.\n",
    "3. **Regression modeling** — to predict the thermoelectric figure of merit (ZT).\n",
    "4. **High-throughput screening** — applying trained models to external material databases.\n",
    "\n",
    "This workflow reflects real-world ML practices: **data curation &rarr; feature engineering &rarr; model training/testing &rarr; application**.\n"
   ]
  },
  {
   "cell_type": "code",
   "execution_count": null,
   "metadata": {},
   "outputs": [],
   "source": [
    "%load_ext autoreload\n",
    "%autoreload 2\n",
    "\n",
    "from energy_gnome.dataset import GNoMEDatabase, MPDatabase, ThermoelectricDatabase\n",
    "from energy_gnome.models import GBDTClassifier, GBDTRegressor\n",
    "import numpy as np\n",
    "from pathlib import Path\n",
    "\n",
    "# Change data_dir to reflect your project's folder structure.\n",
    "# Here, we assume that there are a `notebook`, a `data`, a `models`,\n",
    "# and a `figures` subfolder in the main project folder.\n",
    "data_dir = Path(\".\").resolve().parent / \"data\"\n",
    "models_dir = Path(\".\").resolve().parent / \"models\"\n",
    "figures_dir = Path(\".\").resolve().parent / \"figures\""
   ]
  },
  {
   "cell_type": "markdown",
   "metadata": {},
   "source": [
    "# Dataset creation"
   ]
  },
  {
   "cell_type": "markdown",
   "metadata": {},
   "source": [
    "## Thermoelectric Materials\n",
    "\n",
    "We start by initializing a database of known thermoelectric compounds using `ThermoelectricDatabase`.\n",
    "\n",
    "- `name`: Defines a unique name for this database instance. Use distinct names for different projects or dataset versions to avoid accidental overwriting.\n",
    "- `data_dir`: Sets the root directory where all files will be stored (e.g., raw and processed datasets, CIFs).\n",
    "- `allow_raw_update()`: Enables updates to the raw data stage, allowing newly retrieved entries to be stored.\n",
    "\n",
    "For initializing other database types, see the respective notebooks.\n"
   ]
  },
  {
   "cell_type": "code",
   "execution_count": null,
   "metadata": {},
   "outputs": [],
   "source": [
    "thermo_db = ThermoelectricDatabase(name=\"thermoelectrics\", data_dir=data_dir)\n",
    "thermo_db.allow_raw_update()"
   ]
  },
  {
   "cell_type": "markdown",
   "metadata": {},
   "source": [
    "Pulls the raw thermoelectric materials dataset. Here, we assume that the estm.xlsx file is already present in the `data/external/<name>` folder."
   ]
  },
  {
   "cell_type": "code",
   "execution_count": null,
   "metadata": {},
   "outputs": [],
   "source": [
    "raw_thermo = thermo_db.retrieve_materials()"
   ]
  },
  {
   "cell_type": "markdown",
   "metadata": {},
   "source": [
    "Compares the newly retrieved entries with the existing raw dataset and updates if necessary."
   ]
  },
  {
   "cell_type": "code",
   "execution_count": null,
   "metadata": {},
   "outputs": [],
   "source": [
    "thermo_db.compare_and_update(new_db=raw_thermo, stage=\"raw\")"
   ]
  },
  {
   "cell_type": "markdown",
   "metadata": {},
   "source": [
    "Processes the dataset: cleaning, standardizing, and generating compositional features (in-place).\n"
   ]
  },
  {
   "cell_type": "code",
   "execution_count": null,
   "metadata": {},
   "outputs": [],
   "source": [
    "thermo_db.process_database(inplace=True)"
   ]
  },
  {
   "cell_type": "markdown",
   "metadata": {},
   "source": [
    "## Materials Project (MP) Database\n",
    "\n",
    "We initialize a generic MP-based database to act as a background (non-thermoelectric) dataset.\n",
    "\n",
    "This notebook assumes the MP dataset has already been downloaded. For retrieval instructions, see the MP-specific notebook.\n",
    "\n",
    "Because the pipeline is strictly compositional, structure files (CIFs) from MP are not required here.\n"
   ]
  },
  {
   "cell_type": "code",
   "execution_count": null,
   "metadata": {},
   "outputs": [],
   "source": [
    "mp_db = MPDatabase(name=\"mp_no_thermo\", data_dir=data_dir)\n",
    "mp_db.allow_raw_update()"
   ]
  },
  {
   "cell_type": "markdown",
   "metadata": {},
   "source": [
    "Returns the cleaned, processed thermoelectric dataset."
   ]
  },
  {
   "cell_type": "code",
   "execution_count": 11,
   "metadata": {},
   "outputs": [],
   "source": [
    "thermo_proc = thermo_db.get_database(stage=\"processed\")"
   ]
  },
  {
   "cell_type": "markdown",
   "metadata": {},
   "source": [
    "Removes overlapping materials between the MP and thermoelectric datasets to prevent data leakage in classification.\n"
   ]
  },
  {
   "cell_type": "code",
   "execution_count": null,
   "metadata": {},
   "outputs": [],
   "source": [
    "mp_db.remove_cross_overlap(stage=\"raw\", df=thermo_proc, save_db=True)"
   ]
  },
  {
   "cell_type": "markdown",
   "metadata": {},
   "source": [
    "Randomly downsamples the MP dataset to approximately match the thermoelectric set's size.\n"
   ]
  },
  {
   "cell_type": "code",
   "execution_count": null,
   "metadata": {},
   "outputs": [],
   "source": [
    "mp_df_red = mp_db.random_downsample(\n",
    "    size=round(len(thermo_proc[\"formula_pretty\"].unique()) * 1.1), new_name=\"mp_no_thermo_red\", stage=\"raw\"\n",
    ")"
   ]
  },
  {
   "cell_type": "markdown",
   "metadata": {},
   "source": [
    "Reinitializes the downsampled MP dataset.\n"
   ]
  },
  {
   "cell_type": "code",
   "execution_count": null,
   "metadata": {},
   "outputs": [],
   "source": [
    "mp_db_red = MPDatabase(name=\"mp_no_thermo_red\", data_dir=data_dir)\n",
    "print(mp_db_red)"
   ]
  },
  {
   "cell_type": "markdown",
   "metadata": {},
   "source": [
    "Processes the reduced MP dataset using the same featurization logic as the thermoelectric database.\n",
    "Ensures feature consistency across datasets.\n"
   ]
  },
  {
   "cell_type": "code",
   "execution_count": null,
   "metadata": {},
   "outputs": [],
   "source": [
    "mp_clean = thermo_db.process_database(inplace=False, df=mp_df_red, temp_list=list(np.arange(300, 1000, 130, float)))\n",
    "mp_db_red.databases[\"processed\"] = mp_clean\n",
    "mp_db_red.save_database(stage=\"processed\")"
   ]
  },
  {
   "cell_type": "markdown",
   "metadata": {},
   "source": [
    "# Binary Classification — GBDT model"
   ]
  },
  {
   "cell_type": "markdown",
   "metadata": {},
   "source": [
    "## Data preparation\n",
    "\n",
    "We begin by loading the cleaned databases."
   ]
  },
  {
   "cell_type": "code",
   "execution_count": null,
   "metadata": {},
   "outputs": [],
   "source": [
    "thermo_db = ThermoelectricDatabase(name=\"thermoelectrics\", data_dir=data_dir)\n",
    "print(thermo_db)"
   ]
  },
  {
   "cell_type": "code",
   "execution_count": null,
   "metadata": {},
   "outputs": [],
   "source": [
    "mp_db = MPDatabase(name=\"mp_no_thermo_red\", data_dir=data_dir)\n",
    "print(mp_db)"
   ]
  },
  {
   "cell_type": "markdown",
   "metadata": {},
   "source": [
    "Splits the datasets into training/testing subsets, while:\n",
    "- Balancing class labels\n",
    "- Ensuring uniform element distribution across splits\n"
   ]
  },
  {
   "cell_type": "code",
   "execution_count": null,
   "metadata": {},
   "outputs": [],
   "source": [
    "thermo_db.split_classifier(test_size=0.2, balance_composition=True, save_split=True)"
   ]
  },
  {
   "cell_type": "code",
   "execution_count": null,
   "metadata": {},
   "outputs": [],
   "source": [
    "mp_db.split_classifier(test_size=0.2, balance_composition=True, save_split=True)"
   ]
  },
  {
   "cell_type": "markdown",
   "metadata": {},
   "source": [
    "## Classifier Initialization\n",
    "\n",
    "Initializes a Gradient Boosted Decision Tree (GBDT) classifier.\n",
    "\n",
    "- `n_committers`: Number of GBDT models trained.\n",
    "- Uses only **compositional features** via `Matminer`.\n"
   ]
  },
  {
   "cell_type": "code",
   "execution_count": null,
   "metadata": {},
   "outputs": [],
   "source": [
    "classifier_model = GBDTClassifier(model_name=\"thermo_gbdt\", models_dir=models_dir)"
   ]
  },
  {
   "cell_type": "code",
   "execution_count": null,
   "metadata": {},
   "outputs": [],
   "source": [
    "classifier_model.set_model_settings(n_committers=10)"
   ]
  },
  {
   "cell_type": "markdown",
   "metadata": {},
   "source": [
    "## Feature Engineering\n",
    "\n",
    "Generates input features for model training using compositional representations.\n"
   ]
  },
  {
   "cell_type": "code",
   "execution_count": null,
   "metadata": {},
   "outputs": [],
   "source": [
    "train_feat = classifier_model.featurize_db(databases=[thermo_db, mp_db], mode=\"composition\")"
   ]
  },
  {
   "cell_type": "markdown",
   "metadata": {},
   "source": [
    "## Training\n",
    "\n",
    "Compiles and trains the GBDT classifier.\n"
   ]
  },
  {
   "cell_type": "code",
   "execution_count": null,
   "metadata": {},
   "outputs": [],
   "source": [
    "classifier_model.compile(n_jobs=6)"
   ]
  },
  {
   "cell_type": "code",
   "execution_count": null,
   "metadata": {},
   "outputs": [],
   "source": [
    "classifier_model.fit(df=train_feat)"
   ]
  },
  {
   "cell_type": "markdown",
   "metadata": {},
   "source": [
    "## Evaluation\n",
    "\n",
    "Evaluates the trained model on both training and test splits.\n"
   ]
  },
  {
   "cell_type": "code",
   "execution_count": null,
   "metadata": {},
   "outputs": [],
   "source": [
    "classifier_model.load_trained_models()"
   ]
  },
  {
   "cell_type": "code",
   "execution_count": null,
   "metadata": {},
   "outputs": [],
   "source": [
    "test_feat = classifier_model.featurize_db(databases=[thermo_db, mp_db], subset=\"testing\", mode=\"composition\")"
   ]
  },
  {
   "cell_type": "code",
   "execution_count": null,
   "metadata": {},
   "outputs": [],
   "source": [
    "train_preds = classifier_model.evaluate(df=train_feat)\n",
    "test_preds = classifier_model.evaluate(df=test_feat)"
   ]
  },
  {
   "cell_type": "markdown",
   "metadata": {},
   "source": [
    "## Visualization\n",
    "\n",
    "Plots classification performance:\n",
    "- ROC curve with AUC (Area Under the Curve)\n",
    "- Precision-Recall curve\n",
    "- Recall-Threshold curve\n"
   ]
  },
  {
   "cell_type": "code",
   "execution_count": null,
   "metadata": {},
   "outputs": [],
   "source": [
    "classifier_model.plot_performance(predictions_dict=train_preds)"
   ]
  },
  {
   "cell_type": "code",
   "execution_count": null,
   "metadata": {},
   "outputs": [],
   "source": [
    "classifier_model.plot_performance(predictions_dict=test_preds)"
   ]
  },
  {
   "cell_type": "markdown",
   "metadata": {},
   "source": [
    "# Regression - GBDT model"
   ]
  },
  {
   "cell_type": "markdown",
   "metadata": {},
   "source": [
    "## Data preparation\n",
    "\n",
    "We set up the regression task using the thermoelectric dataset only."
   ]
  },
  {
   "cell_type": "code",
   "execution_count": null,
   "metadata": {},
   "outputs": [],
   "source": [
    "thermo_db = ThermoelectricDatabase(name=\"thermoelectrics\", data_dir=data_dir)"
   ]
  },
  {
   "cell_type": "markdown",
   "metadata": {},
   "source": [
    "Splits the dataset for regression on the `ZT` target.\n",
    "- No validation set is used in the GBDT models."
   ]
  },
  {
   "cell_type": "code",
   "execution_count": null,
   "metadata": {},
   "outputs": [],
   "source": [
    "thermo_db.split_regressor(target_property=\"ZT\", valid_size=0.0, test_size=0.2, save_split=True)"
   ]
  },
  {
   "cell_type": "markdown",
   "metadata": {},
   "source": [
    "## Regressor Initialization\n",
    "\n",
    "Initializes a GBDT-based regressor for predicting the thermoelectric figure of merit (ZT).\n"
   ]
  },
  {
   "cell_type": "code",
   "execution_count": null,
   "metadata": {},
   "outputs": [],
   "source": [
    "regressor_model = GBDTRegressor(model_name=\"thermo_gbdt\", target_property=\"ZT\", models_dir=models_dir)"
   ]
  },
  {
   "cell_type": "code",
   "execution_count": null,
   "metadata": {},
   "outputs": [],
   "source": [
    "regressor_model.set_model_settings(n_committers=4)"
   ]
  },
  {
   "cell_type": "markdown",
   "metadata": {},
   "source": [
    "## Feature Engineering\n",
    "\n",
    "Generates training and testing features from compositions.\n"
   ]
  },
  {
   "cell_type": "code",
   "execution_count": null,
   "metadata": {},
   "outputs": [],
   "source": [
    "train_feat = regressor_model.featurize_db(databases=[thermo_db], mode=\"composition\")"
   ]
  },
  {
   "cell_type": "code",
   "execution_count": null,
   "metadata": {},
   "outputs": [],
   "source": [
    "test_feat = regressor_model.featurize_db(databases=[thermo_db], subset=\"testing\", mode=\"composition\")"
   ]
  },
  {
   "cell_type": "markdown",
   "metadata": {},
   "source": [
    "## Training\n",
    "\n",
    "Compiles and fits the model.\n",
    "- Uses **RMSE** as the scoring metric.\n"
   ]
  },
  {
   "cell_type": "code",
   "execution_count": null,
   "metadata": {},
   "outputs": [],
   "source": [
    "regressor_model.compile(n_jobs=6, scoring=\"neg_root_mean_squared_error\")"
   ]
  },
  {
   "cell_type": "code",
   "execution_count": null,
   "metadata": {},
   "outputs": [],
   "source": [
    "regressor_model.fit(df=train_feat)"
   ]
  },
  {
   "cell_type": "markdown",
   "metadata": {},
   "source": [
    "## Evaluation\n",
    "\n",
    "Evaluates model predictions on both training and testing data.\n"
   ]
  },
  {
   "cell_type": "code",
   "execution_count": null,
   "metadata": {},
   "outputs": [],
   "source": [
    "regressor_model.load_trained_models()"
   ]
  },
  {
   "cell_type": "code",
   "execution_count": null,
   "metadata": {},
   "outputs": [],
   "source": [
    "train_preds = regressor_model.evaluate(df=train_feat)\n",
    "test_preds = regressor_model.evaluate(df=test_feat)"
   ]
  },
  {
   "cell_type": "markdown",
   "metadata": {},
   "source": [
    "## Visualization\n",
    "\n",
    "Produces parity plots showing predicted vs. true ZT values.\n"
   ]
  },
  {
   "cell_type": "code",
   "execution_count": null,
   "metadata": {},
   "outputs": [],
   "source": [
    "regressor_model.plot_parity(predictions_dict=train_preds)"
   ]
  },
  {
   "cell_type": "code",
   "execution_count": null,
   "metadata": {},
   "outputs": [],
   "source": [
    "regressor_model.plot_parity(predictions_dict=test_preds)"
   ]
  },
  {
   "cell_type": "markdown",
   "metadata": {},
   "source": [
    "# GNoME screening"
   ]
  },
  {
   "cell_type": "markdown",
   "metadata": {},
   "source": [
    "## GNoME Database Initialization\n",
    "\n",
    "Initializes a database of GNoME-generated materials (novel candidates).\n",
    "\n",
    "Assumes the raw GNoME dataset is already available. See the GNoME-specific notebook for retrieval instructions.\n"
   ]
  },
  {
   "cell_type": "code",
   "execution_count": null,
   "metadata": {},
   "outputs": [],
   "source": [
    "gnome_db = GNoMEDatabase(name=\"gnome\", data_dir=data_dir)\n",
    "print(gnome_db)"
   ]
  },
  {
   "cell_type": "markdown",
   "metadata": {},
   "source": [
    "## Pre-Screening Cleanup\n",
    "\n",
    "Removes any material entries from GNoME that overlap with:\n",
    "- MP dataset\n",
    "- Thermoelectric dataset\n",
    "\n",
    "This avoids label leakage in later ML tasks.\n"
   ]
  },
  {
   "cell_type": "code",
   "execution_count": null,
   "metadata": {},
   "outputs": [],
   "source": [
    "gnome_db.remove_cross_overlap(stage=\"raw\", df=mp_db.get_database(\"raw\"), save_db=True)"
   ]
  },
  {
   "cell_type": "code",
   "execution_count": null,
   "metadata": {},
   "outputs": [],
   "source": [
    "gnome_db.remove_cross_overlap(stage=\"raw\", df=thermo_db.get_database(\"processed\"), save_db=True)"
   ]
  },
  {
   "cell_type": "code",
   "execution_count": null,
   "metadata": {},
   "outputs": [],
   "source": [
    "print(gnome_db)"
   ]
  },
  {
   "cell_type": "markdown",
   "metadata": {},
   "source": [
    "## Processing Pipeline\n",
    "\n",
    "Processes the GNoME dataset using the same cleaning/featurization logic used earlier.\n"
   ]
  },
  {
   "cell_type": "code",
   "execution_count": null,
   "metadata": {},
   "outputs": [],
   "source": [
    "raw_df = gnome_db.get_database(stage=\"raw\")\n",
    "thermo_db = ThermoelectricDatabase(name=\"thermoelectrics\", data_dir=data_dir)\n",
    "gnome_clean = thermo_db.process_database(inplace=False, df=raw_df)\n",
    "gnome_db.databases[\"raw\"] = gnome_clean\n",
    "gnome_db.save_database(stage=\"raw\")"
   ]
  },
  {
   "cell_type": "code",
   "execution_count": null,
   "metadata": {},
   "outputs": [],
   "source": [
    "print(gnome_db)"
   ]
  },
  {
   "cell_type": "markdown",
   "metadata": {},
   "source": [
    "## Classification Screening\n",
    "\n",
    "Loads the trained classifier model and screens GNoME entries for potential thermoelectrics.\n"
   ]
  },
  {
   "cell_type": "code",
   "execution_count": null,
   "metadata": {},
   "outputs": [],
   "source": [
    "classifier_model = GBDTClassifier(model_name=\"thermo_gbdt\", models_dir=models_dir, figures_dir=figures_dir)\n",
    "classifier_model.load_trained_models()"
   ]
  },
  {
   "cell_type": "code",
   "execution_count": null,
   "metadata": {},
   "outputs": [],
   "source": [
    "screened_df = classifier_model.screen(db=gnome_db, featurizing_mode=\"composition\", save_processed=True)"
   ]
  },
  {
   "cell_type": "markdown",
   "metadata": {},
   "source": [
    "## ZT Prediction\n",
    "\n",
    "Applies the trained regression model to the positively screened candidates, estimating their ZT values.\n",
    "\n",
    "This completes the full screening pipeline.\n"
   ]
  },
  {
   "cell_type": "code",
   "execution_count": null,
   "metadata": {},
   "outputs": [],
   "source": [
    "regressor_model = GBDTRegressor(model_name=\"thermo_gbdt\", target_property=\"ZT\", models_dir=models_dir)"
   ]
  },
  {
   "cell_type": "code",
   "execution_count": null,
   "metadata": {},
   "outputs": [],
   "source": [
    "df_final = regressor_model.predict(db=gnome_db, confidence_threshold=0.5, featurizing_mode=\"composition\")"
   ]
  }
 ],
 "metadata": {
  "kernelspec": {
   "display_name": "energy-gnome",
   "language": "python",
   "name": "python3"
  },
  "language_info": {
   "codemirror_mode": {
    "name": "ipython",
    "version": 3
   },
   "file_extension": ".py",
   "mimetype": "text/x-python",
   "name": "python",
   "nbconvert_exporter": "python",
   "pygments_lexer": "ipython3",
   "version": "3.10.15"
  }
 },
 "nbformat": 4,
 "nbformat_minor": 2
}
